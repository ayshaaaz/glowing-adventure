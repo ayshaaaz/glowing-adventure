{
 "cells": [
  {
   "cell_type": "markdown",
   "id": "274d8a22-ea0e-4591-87b1-1bec7ac1bb2f",
   "metadata": {
    "tags": []
   },
   "source": [
    "# Data Science Tools And Ecosystem"
   ]
  },
  {
   "cell_type": "markdown",
   "id": "9e07a922-2f2a-4663-bc70-f5a5c9e14495",
   "metadata": {},
   "source": [
    "<summary>In this notebook,Data science Tools and Ecosystem are summarized</summary>\n",
    "\n",
    "\n",
    "\n",
    "\n",
    "\n"
   ]
  },
  {
   "cell_type": "markdown",
   "id": "0b41abd4-c59a-4d60-a3b9-0d269a16ceea",
   "metadata": {
    "tags": []
   },
   "source": [
    "<summary> Some of the popular Languages that Data science use are: </summary>\n",
    "\n",
    "\n",
    "\n",
    "\n",
    "\n",
    "1. Python\n",
    "\n",
    "2. java\n",
    "\n",
    "3. c++\n",
    "\n",
    "\n",
    "\n",
    "\n",
    "\n",
    "\n",
    "\n"
   ]
  },
  {
   "cell_type": "markdown",
   "id": "bb90d1fb-6bd9-4169-8716-5b6ffd81f0e0",
   "metadata": {},
   "source": [
    "<summary>some of the commanly used data science libraries are: </summary>\n",
    "\n",
    "       \n",
    "    \n",
    "\n",
    "1. Plotly\n",
    "\n",
    "2. Tenorflow\n",
    "\n",
    "3. scikit-learn\n",
    "\n",
    "\n",
    "       \n",
    "\n",
    "    \n",
    "      \n"
   ]
  },
  {
   "cell_type": "markdown",
   "id": "8d618c84-7aec-4d8b-97f8-1f0658f6a2a5",
   "metadata": {
    "tags": []
   },
   "source": [
    "|*Data science Tools*|\n",
    "----------------------\n",
    "|TensorFlow         |\n",
    "|KNIME              |\n",
    "|Apache Hadoop      |\n",
    "\n",
    "\n",
    "\n",
    "\n",
    "\n",
    "\n",
    "\n",
    "\n"
   ]
  },
  {
   "cell_type": "markdown",
   "id": "002b11d2-b6ff-4344-a4ef-bbb0e26aa6f0",
   "metadata": {},
   "source": [
    "### Below are a few examples of evaluating arithmetic expressions in Python\n",
    "           -----------------------------------------\n",
    "\n",
    "\n",
    "\n",
    "\n",
    "\n",
    "\n",
    "\n"
   ]
  },
  {
   "cell_type": "markdown",
   "id": "c1dc12ec-e95f-4376-84e0-1f1a0d50dca9",
   "metadata": {
    "tags": []
   },
   "source": [
    "<summary> This is the simple Arithmetic expression to multiply then add integers:</summary>\n",
    "\n",
    "\n",
    "\n",
    "\n",
    "\n",
    "\n",
    "\n"
   ]
  },
  {
   "cell_type": "code",
   "execution_count": 19,
   "id": "7dd9f0c0-70b2-465b-968e-43660ed7dfb8",
   "metadata": {
    "tags": []
   },
   "outputs": [],
   "source": [
    "x=(3*4)+5"
   ]
  },
  {
   "cell_type": "code",
   "execution_count": 20,
   "id": "f8ea4638-6f4a-4f4a-ba42-775fd2324eaa",
   "metadata": {
    "tags": []
   },
   "outputs": [
    {
     "name": "stdout",
     "output_type": "stream",
     "text": [
      "17\n"
     ]
    }
   ],
   "source": [
    "print(x)"
   ]
  },
  {
   "cell_type": "markdown",
   "id": "10b3ca1d-c82f-4dbb-892a-5610591686ad",
   "metadata": {},
   "source": [
    "This will convert 200 minutes to hours by dividing by 60"
   ]
  },
  {
   "cell_type": "code",
   "execution_count": 28,
   "id": "98acedef-5367-4983-b68b-710a853454c1",
   "metadata": {
    "tags": []
   },
   "outputs": [],
   "source": [
    "a=200/60"
   ]
  },
  {
   "cell_type": "code",
   "execution_count": 29,
   "id": "76427d5a-7f50-48b3-8c02-535ab729b566",
   "metadata": {
    "tags": []
   },
   "outputs": [
    {
     "name": "stdout",
     "output_type": "stream",
     "text": [
      "3.3333333333333335\n"
     ]
    }
   ],
   "source": [
    "print(a)"
   ]
  },
  {
   "cell_type": "markdown",
   "id": "49164f2d-dc6e-4907-8a68-95bda9b416dc",
   "metadata": {},
   "source": [
    "  ***Objectives:***\n",
    "\n",
    "\n",
    "\n",
    "- list of popular languages used in data science\n",
    "\n",
    "- list of commnly used data science libraries \n",
    "\n",
    "- list of some data science tools \n",
    "\n",
    "- list of some arithmetic expression in python\n",
    "\n",
    "\n",
    "\n",
    "\n",
    "\n",
    "\n"
   ]
  },
  {
   "cell_type": "code",
   "execution_count": null,
   "id": "b31e0f34-5379-4bc9-8092-1f1e42fce835",
   "metadata": {},
   "outputs": [],
   "source": []
  }
 ],
 "metadata": {
  "kernelspec": {
   "display_name": "Python",
   "language": "python",
   "name": "conda-env-python-py"
  },
  "language_info": {
   "codemirror_mode": {
    "name": "ipython",
    "version": 3
   },
   "file_extension": ".py",
   "mimetype": "text/x-python",
   "name": "python",
   "nbconvert_exporter": "python",
   "pygments_lexer": "ipython3",
   "version": "3.7.12"
  }
 },
 "nbformat": 4,
 "nbformat_minor": 5
}
